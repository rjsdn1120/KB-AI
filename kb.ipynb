{
 "cells": [
  {
   "cell_type": "markdown",
   "id": "71807de8",
   "metadata": {},
   "source": [
    "# kb-albert 불러오기"
   ]
  },
  {
   "cell_type": "code",
   "execution_count": 1,
   "id": "54eac65a",
   "metadata": {
    "scrolled": false
   },
   "outputs": [
    {
     "name": "stderr",
     "output_type": "stream",
     "text": [
      "/home/rjsdn/.conda/envs/kb_albert/lib/python3.6/site-packages/transformers/tokenization_utils_base.py:1641: FutureWarning: Calling KbAlbertCharTokenizer.from_pretrained() with the path to a single file or url is deprecated and won't be possible anymore in v5. Use a model identifier or the path to a directory instead.\n",
      "  FutureWarning,\n",
      "The tokenizer class you load from this checkpoint is not the same type as the class this function is called from. It may result in unexpected tokenization. \n",
      "The tokenizer class you load from this checkpoint is 'AlbertTokenizerFast'. \n",
      "The class this function is called from is 'KbAlbertCharTokenizer'.\n"
     ]
    },
    {
     "name": "stdout",
     "output_type": "stream",
     "text": [
      "/home/rjsdn/kb-albert-char/examples/vocab.txt\n"
     ]
    },
    {
     "name": "stderr",
     "output_type": "stream",
     "text": [
      "Some weights of the model checkpoint at /home/rjsdn/kb-albert-char/examples/pytorch_model.bin were not used when initializing AlbertForSequenceClassification: ['predictions.LayerNorm.weight', 'predictions.dense.bias', 'sop_classifier.classifier.weight', 'predictions.LayerNorm.bias', 'predictions.decoder.bias', 'sop_classifier.classifier.bias', 'predictions.decoder.weight', 'predictions.bias', 'predictions.dense.weight']\n",
      "- This IS expected if you are initializing AlbertForSequenceClassification from the checkpoint of a model trained on another task or with another architecture (e.g. initializing a BertForSequenceClassification model from a BertForPreTraining model).\n",
      "- This IS NOT expected if you are initializing AlbertForSequenceClassification from the checkpoint of a model that you expect to be exactly identical (initializing a BertForSequenceClassification model from a BertForSequenceClassification model).\n",
      "Some weights of AlbertForSequenceClassification were not initialized from the model checkpoint at /home/rjsdn/kb-albert-char/examples/pytorch_model.bin and are newly initialized: ['classifier.bias', 'classifier.weight']\n",
      "You should probably TRAIN this model on a down-stream task to be able to use it for predictions and inference.\n"
     ]
    }
   ],
   "source": [
    "import os\n",
    "import sys\n",
    "import torch\n",
    "\n",
    "sys.path.insert(0,os.path.abspath('./kb-albert-char/examples'))\n",
    "\n",
    "from transformers import AlbertForSequenceClassification\n",
    "from tokenization_kbalbert import KbAlbertCharTokenizer\n",
    "\n",
    "kb_albert_model_path = '/home/rjsdn/kb-albert-char/examples/pytorch_model.bin'\n",
    "vocab_path='/home/rjsdn/kb-albert-char/examples/vocab.txt'\n",
    "config_path='/home/rjsdn/kb-albert-char/examples/config.json'\n",
    "\n",
    "\n",
    "tokenizer = KbAlbertCharTokenizer.from_pretrained(vocab_path)\n",
    "model = AlbertForSequenceClassification.from_pretrained(kb_albert_model_path,config=config_path)"
   ]
  },
  {
   "cell_type": "markdown",
   "id": "d02e1d40",
   "metadata": {},
   "source": [
    "# 데이터 불러오고 데이터 어떤지 확인"
   ]
  },
  {
   "cell_type": "code",
   "execution_count": 2,
   "id": "cfcffc79",
   "metadata": {},
   "outputs": [
    {
     "name": "stdout",
     "output_type": "stream",
     "text": [
      "                                                text\n",
      "0  [Web발신] 국내 우한폐렴 급속도확산 감염자및 접촉차 신분정보 확인하기 news....\n",
      "1         [Web발신] 코로나 전염병환자 휴게소에서 수많은 사람과 접촉 http://\n",
      "2  [Web발신] [질병관리청] 8/5 코로나19 백신 예약 인증 본인확인 https:...\n",
      "3            OO저축은행에서 대출받으시면 1시간 이내에 처리될 수 있도록 하겠습니다\n",
      "4               저희는 이미 확정금리로 나왔습니다. 무조건 대출 진행 가능합니다.\n",
      "                                                text\n",
      "0                         퇴직연금 계좌정보 거래에서 출력할 수 있습니다.\n",
      "1  입출금 문자알림 서비스는 하나원큐, 영업점, 인터넷뱅킹, 폰뱅킹에서 신청할 수 있습니다.\n",
      "2  주거래 손님이라 함은 개별 손님 기준 우대등급 Family 이상 또는 결제성과 상품...\n",
      "3  급여이체는 매월 건당 50만원 이상의 급여성 자금이 본인 명의의 입출금이 자유로운 ...\n",
      "4               금융거래한도계좌는 1일 출금 및 이체한도가 제한되는 계좌 입니다.\n",
      "cnt0 379    cnt1 379\n",
      "                                                text\n",
      "0  [Web발신] [질병관리청] 코로나19 백신 디지털 예방접종증명서 발급 및 저장 본...\n",
      "1  [국외발신] [아마존닷컴]KRW 원, 해외결제 본인 요청 아닐경우 소비자 문의: 0...\n",
      "2  [국외발신] 고객님 신청하신 다이슨 디지털 슬림 플로피 OOO원 완료. 문의: (전...\n",
      "3  [Web발신] 로젠택배 고객님의 소포가 반송중 파손되었습니다. 배송상황을 확인하세요...\n",
      "4  고객님 쿠팡맨 김OO이라고 합니다. 제가 오늘 새벽에 배송중 다쳐서 입원하는 바람에...\n",
      "                                                text\n",
      "0     단, 온라인 전용펀드인 경우 2014년 5월 23일부터 변경되어 최저 1만원입니다.\n",
      "1        단, 장기주식형 3년기간 미충족 계좌는 일부환매 및 일반과세 전환 불가합니다.\n",
      "2  예금담보대출을 받은 경우 질권설정이 되어 있으므로 인터넷뱅킹에서 펀드 해지가 불가합니다.\n",
      "3  신분증, 통장, 도장(서명시 미지참) 지참하셔서 영업점 방문하셔서 해지 신청 해야 ...\n",
      "4  인터넷뱅킹에서 펀드 가입했을 경우 통장이 없기 때문에 신분증만 지참하셔서 영업점 방...\n",
      "cnt0 50    cnt1 50\n"
     ]
    }
   ],
   "source": [
    "import torch\n",
    "from torch.utils.data import Dataset,DataLoader\n",
    "import pandas as pd\n",
    "import random\n",
    "\n",
    "class load_data(Dataset):\n",
    "    def __init__(self,tokenizer,is_train=True):\n",
    "        self.tokenizer = tokenizer\n",
    "        file = 'test'\n",
    "        if is_train:\n",
    "            file = 'data'\n",
    "        df = pd.read_excel('data/'+file+'O.xlsx',names=['text'],usecols=[0],engine='openpyxl')\n",
    "        df = df.dropna(axis=0)\n",
    "        print(df.head())\n",
    "        self.data_list=[]\n",
    "        cnt0=0;cnt1=0\n",
    "        for i in range(len(df)):\n",
    "            x = df.iloc[i]\n",
    "            text=x['text']\n",
    "            cnt1+=1\n",
    "            try:\n",
    "                self.data_list.append((self.tokenizer(text,return_tensors='pt'),torch.tensor([1])))\n",
    "            except ValueError as e:\n",
    "                print(text)\n",
    "        l = len(df)\n",
    "        \n",
    "        df = pd.read_excel('data/'+file+'X.xlsx',names=['text'],usecols=[0],engine='openpyxl')\n",
    "        df = df.dropna(axis=0)\n",
    "        print(df.head())\n",
    "        for i in range(len(df)):\n",
    "            if i >= l and is_train: break\n",
    "            x = df.iloc[i]\n",
    "            text=x['text']\n",
    "            cnt0+=1\n",
    "            self.data_list.append((self.tokenizer(text,return_tensors='pt'),torch.tensor([0])))\n",
    "        print('cnt0',cnt0,'   cnt1',cnt1)\n",
    "    \n",
    "    def __len__(self):\n",
    "        return len(self.data_list)\n",
    "    \n",
    "    def __getitem__(self,index):\n",
    "        return {\n",
    "            'text' : self.data_list[index][0],\n",
    "            'label' : self.data_list[index][1],\n",
    "        }       \n",
    "        \n",
    "train_load = load_data(tokenizer)\n",
    "train_data = DataLoader(train_load,batch_size=1,shuffle=True)\n",
    "\n",
    "test_load = load_data(tokenizer,is_train=0)\n",
    "test_data = DataLoader(test_load,batch_size=1,shuffle=False)"
   ]
  },
  {
   "cell_type": "markdown",
   "id": "776861ba",
   "metadata": {},
   "source": [
    "# 학습하는 부분"
   ]
  },
  {
   "cell_type": "code",
   "execution_count": 3,
   "id": "916fdb43",
   "metadata": {
    "scrolled": true
   },
   "outputs": [
    {
     "name": "stdout",
     "output_type": "stream",
     "text": [
      "0.7934252023696899\n",
      "51.312382727861404\n",
      "79.68045045807958\n",
      "95.01730194874108\n",
      "106.88190414197743\n",
      "126.34270748123527\n",
      "139.26466165157035\n",
      "163.51361581869423\n",
      "epoch 1 | loss 0.229885818\n",
      "0.03919901326298714\n",
      "11.904204980004579\n",
      "28.429046508390456\n",
      "32.35019061062485\n",
      "45.286034518736415\n",
      "57.95830840046983\n",
      "64.52525698544923\n",
      "78.00800326059107\n",
      "epoch 2 | loss 0.109515079\n",
      "0.0037011471576988697\n",
      "6.8683521235361695\n",
      "8.61316395981703\n",
      "17.343342120642774\n",
      "18.200238104211167\n",
      "18.646998278447427\n",
      "19.315622966561932\n",
      "20.816924350627232\n",
      "epoch 3 | loss 0.027700304\n",
      "0.002689674962311983\n",
      "0.23566219312488101\n",
      "0.4981714768218808\n",
      "11.021333179000067\n",
      "15.687942619581008\n",
      "16.43184753303649\n",
      "19.07899022276979\n",
      "19.34729760402115\n",
      "epoch 4 | loss 0.025616710\n",
      "0.00032062159152701497\n",
      "0.17290140996919945\n",
      "0.24496536335209385\n",
      "6.875898115482414\n",
      "20.94645399277215\n",
      "23.288248249155004\n",
      "24.262002105271677\n",
      "24.528132702893345\n",
      "epoch 5 | loss 0.032571918\n",
      "0.006448413711041212\n",
      "0.11891170984017663\n",
      "0.2159039078251226\n",
      "0.5942306970682694\n",
      "0.9271123089711182\n",
      "1.8284593530916027\n",
      "2.240661238654866\n",
      "2.334730558712181\n",
      "epoch 6 | loss 0.003103625\n",
      "done\n"
     ]
    }
   ],
   "source": [
    "import torch.nn as nn\n",
    "\n",
    "criterion = nn.CrossEntropyLoss()\n",
    "optim = torch.optim.Adam(model.parameters(),lr=0.0001/3)\n",
    "device = 'cuda:0' if torch.cuda.is_available() else 'cpu'\n",
    "\n",
    "epochs = 15\n",
    "mode=model.to(device)\n",
    "loss_list=[]\n",
    "cnt=0\n",
    "\n",
    "model.train()\n",
    "for epoch in range(epochs):\n",
    "    avg_loss=0\n",
    "    cnt=0\n",
    "    for i in train_data:\n",
    "        # print(i['x'],i['y'])\n",
    "        optim.zero_grad()\n",
    "        x=i['text']\n",
    "        y=i['label']\n",
    "        for j in x:\n",
    "            x[j]=x[j].squeeze(0).to(device)\n",
    "        y=y.squeeze(0).to(device)\n",
    "        #break\n",
    "        po_len = len(x['input_ids'][0])\n",
    "        if po_len >512: continue\n",
    "        out = model(**x,labels=y)\n",
    "        \n",
    "            \n",
    "        loss = criterion(out.logits,y)\n",
    "        avg_loss += float(loss.item())\n",
    "        loss.backward(retain_graph=True)\n",
    "        optim.step()\n",
    "        if cnt%100 == 0 :\n",
    "            print(avg_loss)\n",
    "        cnt+=1\n",
    "    tmp_loss=avg_loss/cnt\n",
    "    loss_list.append(tmp_loss)\n",
    "    print('epoch {:1d} | loss {:.9f}'.format(epoch+1,tmp_loss))\n",
    "    if tmp_loss < 0.01: break\n",
    "\n",
    "print('done')"
   ]
  },
  {
   "cell_type": "markdown",
   "id": "76905020",
   "metadata": {},
   "source": [
    "# loss 그래프"
   ]
  },
  {
   "cell_type": "code",
   "execution_count": 4,
   "id": "6785e7ac",
   "metadata": {
    "scrolled": true
   },
   "outputs": [
    {
     "data": {
      "image/png": "[encoded data removed]",
      "text/plain": [
       "<Figure size 432x288 with 1 Axes>"
      ]
     },
     "metadata": {
      "needs_background": "light"
     },
     "output_type": "display_data"
    }
   ],
   "source": [
    "%matplotlib inline\n",
    "import matplotlib.pyplot as plt\n",
    "xv = [i for i in range(1,len(loss_list)+1)]\n",
    "yv = loss_list\n",
    "\n",
    "plt.plot(xv,yv)\n",
    "plt.show()"
   ]
  },
  {
   "cell_type": "markdown",
   "id": "233717c1",
   "metadata": {},
   "source": [
    "# 모델 성능 테스트"
   ]
  },
  {
   "cell_type": "code",
   "execution_count": 5,
   "id": "2440328e",
   "metadata": {
    "scrolled": true
   },
   "outputs": [
    {
     "name": "stdout",
     "output_type": "stream",
     "text": [
      "test done\n"
     ]
    }
   ],
   "source": [
    "import torch\n",
    "\n",
    "y_true=[];y_pred=[]\n",
    "model.eval()\n",
    "test_loss=0\n",
    "with torch.no_grad():\n",
    "    avg_loss=0\n",
    "    cnt=0\n",
    "    ans=0\n",
    "    for i in test_data:\n",
    "        # print(i['x'],i['y'])\n",
    "        optim.zero_grad()\n",
    "        x=i['text']\n",
    "        y=i['label']\n",
    "        for j in x:\n",
    "            x[j]=x[j].squeeze(0).to(device)\n",
    "        y=y.squeeze(0).to(device)\n",
    "        #break\n",
    "        po_len = len(x['input_ids'][0])\n",
    "        if po_len >512: continue\n",
    "        out = model(**x,labels=y)\n",
    "        loss = criterion(out.logits,y)\n",
    "        avg_loss += float(loss.item())\n",
    "        pred = torch.argmax(out.logits).item()\n",
    "        cnt+=1\n",
    "        \n",
    "        y_true.append(y.item())\n",
    "        y_pred.append(pred)\n",
    "    test_loss=avg_loss/cnt\n",
    "\n",
    "print('test done')"
   ]
  },
  {
   "cell_type": "markdown",
   "id": "055b160d",
   "metadata": {},
   "source": [
    "# loss, 정확도, f1 score, confusion matrix 확인"
   ]
  },
  {
   "cell_type": "code",
   "execution_count": 6,
   "id": "1432681a",
   "metadata": {},
   "outputs": [
    {
     "name": "stdout",
     "output_type": "stream",
     "text": [
      "test loss: 0.313611042625198\n",
      "test acc:94.000000000\n",
      "f1 score:0.938775510\n",
      "[[48  2]\n",
      " [ 4 46]]\n"
     ]
    }
   ],
   "source": [
    "from sklearn.metrics import *\n",
    "print('test loss:', test_loss)\n",
    "print('test acc:{:.9f}'.format(accuracy_score(y_true,y_pred)*100))\n",
    "print('f1 score:{:.9f}'.format(f1_score(y_true,y_pred)))\n",
    "print(confusion_matrix(y_true,y_pred))"
   ]
  },
  {
   "cell_type": "code",
   "execution_count": 8,
   "id": "a3ec7776",
   "metadata": {},
   "outputs": [],
   "source": [
    "if not s.isfile('./pino.pth'):\n",
    "    torch.save(model.state_dict(),'./pino.pth'"
   ]
  },
  {
   "cell_type": "code",
   "execution_count": 3,
   "id": "97eeb485",
   "metadata": {},
   "outputs": [],
   "source": [
    "device = torch.device(\"cuda:0\")"
   ]
  },
  {
   "cell_type": "code",
   "execution_count": 4,
   "id": "9a42e32c",
   "metadata": {
    "scrolled": true
   },
   "outputs": [
    {
     "ename": "RuntimeError",
     "evalue": "Expected all tensors to be on the same device, but found at least two devices, cpu and cuda:0! (when checking arugment for argument index in method wrapper_index_select)",
     "output_type": "error",
     "traceback": [
      "\u001b[0;31m---------------------------------------------------------------------------\u001b[0m",
      "\u001b[0;31mRuntimeError\u001b[0m                              Traceback (most recent call last)",
      "\u001b[0;32m<ipython-input-4-243efbef4c7c>\u001b[0m in \u001b[0;36m<module>\u001b[0;34m\u001b[0m\n\u001b[1;32m     16\u001b[0m     \u001b[0mtok\u001b[0m \u001b[0;34m=\u001b[0m \u001b[0mtokenizer\u001b[0m\u001b[0;34m(\u001b[0m\u001b[0mtext\u001b[0m\u001b[0;34m,\u001b[0m\u001b[0mreturn_tensors\u001b[0m\u001b[0;34m=\u001b[0m\u001b[0;34m'pt'\u001b[0m\u001b[0;34m)\u001b[0m\u001b[0;34m\u001b[0m\u001b[0;34m\u001b[0m\u001b[0m\n\u001b[1;32m     17\u001b[0m     \u001b[0mtok\u001b[0m\u001b[0;34m.\u001b[0m\u001b[0mto\u001b[0m\u001b[0;34m(\u001b[0m\u001b[0mdevice\u001b[0m\u001b[0;34m)\u001b[0m\u001b[0;34m\u001b[0m\u001b[0;34m\u001b[0m\u001b[0m\n\u001b[0;32m---> 18\u001b[0;31m     \u001b[0mout\u001b[0m \u001b[0;34m=\u001b[0m \u001b[0mmodel\u001b[0m\u001b[0;34m(\u001b[0m\u001b[0;34m**\u001b[0m\u001b[0mtok\u001b[0m\u001b[0;34m)\u001b[0m\u001b[0;34m\u001b[0m\u001b[0;34m\u001b[0m\u001b[0m\n\u001b[0m\u001b[1;32m     19\u001b[0m     \u001b[0mpred\u001b[0m \u001b[0;34m=\u001b[0m \u001b[0mtorch\u001b[0m\u001b[0;34m.\u001b[0m\u001b[0margmax\u001b[0m\u001b[0;34m(\u001b[0m\u001b[0mout\u001b[0m\u001b[0;34m.\u001b[0m\u001b[0mlogits\u001b[0m\u001b[0;34m)\u001b[0m\u001b[0;34m.\u001b[0m\u001b[0mitem\u001b[0m\u001b[0;34m(\u001b[0m\u001b[0;34m)\u001b[0m\u001b[0;34m\u001b[0m\u001b[0;34m\u001b[0m\u001b[0m\n\u001b[1;32m     20\u001b[0m     \u001b[0mprint\u001b[0m\u001b[0;34m(\u001b[0m\u001b[0mlabel_dict\u001b[0m\u001b[0;34m[\u001b[0m\u001b[0mpred\u001b[0m\u001b[0;34m]\u001b[0m\u001b[0;34m)\u001b[0m\u001b[0;34m\u001b[0m\u001b[0;34m\u001b[0m\u001b[0m\n",
      "\u001b[0;32m~/.conda/envs/kb_albert/lib/python3.6/site-packages/torch/nn/modules/module.py\u001b[0m in \u001b[0;36m_call_impl\u001b[0;34m(self, *input, **kwargs)\u001b[0m\n\u001b[1;32m   1049\u001b[0m         if not (self._backward_hooks or self._forward_hooks or self._forward_pre_hooks or _global_backward_hooks\n\u001b[1;32m   1050\u001b[0m                 or _global_forward_hooks or _global_forward_pre_hooks):\n\u001b[0;32m-> 1051\u001b[0;31m             \u001b[0;32mreturn\u001b[0m \u001b[0mforward_call\u001b[0m\u001b[0;34m(\u001b[0m\u001b[0;34m*\u001b[0m\u001b[0minput\u001b[0m\u001b[0;34m,\u001b[0m \u001b[0;34m**\u001b[0m\u001b[0mkwargs\u001b[0m\u001b[0;34m)\u001b[0m\u001b[0;34m\u001b[0m\u001b[0;34m\u001b[0m\u001b[0m\n\u001b[0m\u001b[1;32m   1052\u001b[0m         \u001b[0;31m# Do not call functions when jit is used\u001b[0m\u001b[0;34m\u001b[0m\u001b[0;34m\u001b[0m\u001b[0;34m\u001b[0m\u001b[0m\n\u001b[1;32m   1053\u001b[0m         \u001b[0mfull_backward_hooks\u001b[0m\u001b[0;34m,\u001b[0m \u001b[0mnon_full_backward_hooks\u001b[0m \u001b[0;34m=\u001b[0m \u001b[0;34m[\u001b[0m\u001b[0;34m]\u001b[0m\u001b[0;34m,\u001b[0m \u001b[0;34m[\u001b[0m\u001b[0;34m]\u001b[0m\u001b[0;34m\u001b[0m\u001b[0;34m\u001b[0m\u001b[0m\n",
      "\u001b[0;32m~/.conda/envs/kb_albert/lib/python3.6/site-packages/transformers/models/albert/modeling_albert.py\u001b[0m in \u001b[0;36mforward\u001b[0;34m(self, input_ids, attention_mask, token_type_ids, position_ids, head_mask, inputs_embeds, labels, output_attentions, output_hidden_states, return_dict)\u001b[0m\n\u001b[1;32m   1032\u001b[0m             \u001b[0moutput_attentions\u001b[0m\u001b[0;34m=\u001b[0m\u001b[0moutput_attentions\u001b[0m\u001b[0;34m,\u001b[0m\u001b[0;34m\u001b[0m\u001b[0;34m\u001b[0m\u001b[0m\n\u001b[1;32m   1033\u001b[0m             \u001b[0moutput_hidden_states\u001b[0m\u001b[0;34m=\u001b[0m\u001b[0moutput_hidden_states\u001b[0m\u001b[0;34m,\u001b[0m\u001b[0;34m\u001b[0m\u001b[0;34m\u001b[0m\u001b[0m\n\u001b[0;32m-> 1034\u001b[0;31m             \u001b[0mreturn_dict\u001b[0m\u001b[0;34m=\u001b[0m\u001b[0mreturn_dict\u001b[0m\u001b[0;34m,\u001b[0m\u001b[0;34m\u001b[0m\u001b[0;34m\u001b[0m\u001b[0m\n\u001b[0m\u001b[1;32m   1035\u001b[0m         )\n\u001b[1;32m   1036\u001b[0m \u001b[0;34m\u001b[0m\u001b[0m\n",
      "\u001b[0;32m~/.conda/envs/kb_albert/lib/python3.6/site-packages/torch/nn/modules/module.py\u001b[0m in \u001b[0;36m_call_impl\u001b[0;34m(self, *input, **kwargs)\u001b[0m\n\u001b[1;32m   1049\u001b[0m         if not (self._backward_hooks or self._forward_hooks or self._forward_pre_hooks or _global_backward_hooks\n\u001b[1;32m   1050\u001b[0m                 or _global_forward_hooks or _global_forward_pre_hooks):\n\u001b[0;32m-> 1051\u001b[0;31m             \u001b[0;32mreturn\u001b[0m \u001b[0mforward_call\u001b[0m\u001b[0;34m(\u001b[0m\u001b[0;34m*\u001b[0m\u001b[0minput\u001b[0m\u001b[0;34m,\u001b[0m \u001b[0;34m**\u001b[0m\u001b[0mkwargs\u001b[0m\u001b[0;34m)\u001b[0m\u001b[0;34m\u001b[0m\u001b[0;34m\u001b[0m\u001b[0m\n\u001b[0m\u001b[1;32m   1052\u001b[0m         \u001b[0;31m# Do not call functions when jit is used\u001b[0m\u001b[0;34m\u001b[0m\u001b[0;34m\u001b[0m\u001b[0;34m\u001b[0m\u001b[0m\n\u001b[1;32m   1053\u001b[0m         \u001b[0mfull_backward_hooks\u001b[0m\u001b[0;34m,\u001b[0m \u001b[0mnon_full_backward_hooks\u001b[0m \u001b[0;34m=\u001b[0m \u001b[0;34m[\u001b[0m\u001b[0;34m]\u001b[0m\u001b[0;34m,\u001b[0m \u001b[0;34m[\u001b[0m\u001b[0;34m]\u001b[0m\u001b[0;34m\u001b[0m\u001b[0;34m\u001b[0m\u001b[0m\n",
      "\u001b[0;32m~/.conda/envs/kb_albert/lib/python3.6/site-packages/transformers/models/albert/modeling_albert.py\u001b[0m in \u001b[0;36mforward\u001b[0;34m(self, input_ids, attention_mask, token_type_ids, position_ids, head_mask, inputs_embeds, output_attentions, output_hidden_states, return_dict)\u001b[0m\n\u001b[1;32m    718\u001b[0m \u001b[0;34m\u001b[0m\u001b[0m\n\u001b[1;32m    719\u001b[0m         embedding_output = self.embeddings(\n\u001b[0;32m--> 720\u001b[0;31m             \u001b[0minput_ids\u001b[0m\u001b[0;34m,\u001b[0m \u001b[0mposition_ids\u001b[0m\u001b[0;34m=\u001b[0m\u001b[0mposition_ids\u001b[0m\u001b[0;34m,\u001b[0m \u001b[0mtoken_type_ids\u001b[0m\u001b[0;34m=\u001b[0m\u001b[0mtoken_type_ids\u001b[0m\u001b[0;34m,\u001b[0m \u001b[0minputs_embeds\u001b[0m\u001b[0;34m=\u001b[0m\u001b[0minputs_embeds\u001b[0m\u001b[0;34m\u001b[0m\u001b[0;34m\u001b[0m\u001b[0m\n\u001b[0m\u001b[1;32m    721\u001b[0m         )\n\u001b[1;32m    722\u001b[0m         encoder_outputs = self.encoder(\n",
      "\u001b[0;32m~/.conda/envs/kb_albert/lib/python3.6/site-packages/torch/nn/modules/module.py\u001b[0m in \u001b[0;36m_call_impl\u001b[0;34m(self, *input, **kwargs)\u001b[0m\n\u001b[1;32m   1049\u001b[0m         if not (self._backward_hooks or self._forward_hooks or self._forward_pre_hooks or _global_backward_hooks\n\u001b[1;32m   1050\u001b[0m                 or _global_forward_hooks or _global_forward_pre_hooks):\n\u001b[0;32m-> 1051\u001b[0;31m             \u001b[0;32mreturn\u001b[0m \u001b[0mforward_call\u001b[0m\u001b[0;34m(\u001b[0m\u001b[0;34m*\u001b[0m\u001b[0minput\u001b[0m\u001b[0;34m,\u001b[0m \u001b[0;34m**\u001b[0m\u001b[0mkwargs\u001b[0m\u001b[0;34m)\u001b[0m\u001b[0;34m\u001b[0m\u001b[0;34m\u001b[0m\u001b[0m\n\u001b[0m\u001b[1;32m   1052\u001b[0m         \u001b[0;31m# Do not call functions when jit is used\u001b[0m\u001b[0;34m\u001b[0m\u001b[0;34m\u001b[0m\u001b[0;34m\u001b[0m\u001b[0m\n\u001b[1;32m   1053\u001b[0m         \u001b[0mfull_backward_hooks\u001b[0m\u001b[0;34m,\u001b[0m \u001b[0mnon_full_backward_hooks\u001b[0m \u001b[0;34m=\u001b[0m \u001b[0;34m[\u001b[0m\u001b[0;34m]\u001b[0m\u001b[0;34m,\u001b[0m \u001b[0;34m[\u001b[0m\u001b[0;34m]\u001b[0m\u001b[0;34m\u001b[0m\u001b[0;34m\u001b[0m\u001b[0m\n",
      "\u001b[0;32m~/.conda/envs/kb_albert/lib/python3.6/site-packages/transformers/models/albert/modeling_albert.py\u001b[0m in \u001b[0;36mforward\u001b[0;34m(self, input_ids, token_type_ids, position_ids, inputs_embeds, past_key_values_length)\u001b[0m\n\u001b[1;32m    251\u001b[0m \u001b[0;34m\u001b[0m\u001b[0m\n\u001b[1;32m    252\u001b[0m         \u001b[0;32mif\u001b[0m \u001b[0minputs_embeds\u001b[0m \u001b[0;32mis\u001b[0m \u001b[0;32mNone\u001b[0m\u001b[0;34m:\u001b[0m\u001b[0;34m\u001b[0m\u001b[0;34m\u001b[0m\u001b[0m\n\u001b[0;32m--> 253\u001b[0;31m             \u001b[0minputs_embeds\u001b[0m \u001b[0;34m=\u001b[0m \u001b[0mself\u001b[0m\u001b[0;34m.\u001b[0m\u001b[0mword_embeddings\u001b[0m\u001b[0;34m(\u001b[0m\u001b[0minput_ids\u001b[0m\u001b[0;34m)\u001b[0m\u001b[0;34m\u001b[0m\u001b[0;34m\u001b[0m\u001b[0m\n\u001b[0m\u001b[1;32m    254\u001b[0m         \u001b[0mtoken_type_embeddings\u001b[0m \u001b[0;34m=\u001b[0m \u001b[0mself\u001b[0m\u001b[0;34m.\u001b[0m\u001b[0mtoken_type_embeddings\u001b[0m\u001b[0;34m(\u001b[0m\u001b[0mtoken_type_ids\u001b[0m\u001b[0;34m)\u001b[0m\u001b[0;34m\u001b[0m\u001b[0;34m\u001b[0m\u001b[0m\n\u001b[1;32m    255\u001b[0m \u001b[0;34m\u001b[0m\u001b[0m\n",
      "\u001b[0;32m~/.conda/envs/kb_albert/lib/python3.6/site-packages/torch/nn/modules/module.py\u001b[0m in \u001b[0;36m_call_impl\u001b[0;34m(self, *input, **kwargs)\u001b[0m\n\u001b[1;32m   1049\u001b[0m         if not (self._backward_hooks or self._forward_hooks or self._forward_pre_hooks or _global_backward_hooks\n\u001b[1;32m   1050\u001b[0m                 or _global_forward_hooks or _global_forward_pre_hooks):\n\u001b[0;32m-> 1051\u001b[0;31m             \u001b[0;32mreturn\u001b[0m \u001b[0mforward_call\u001b[0m\u001b[0;34m(\u001b[0m\u001b[0;34m*\u001b[0m\u001b[0minput\u001b[0m\u001b[0;34m,\u001b[0m \u001b[0;34m**\u001b[0m\u001b[0mkwargs\u001b[0m\u001b[0;34m)\u001b[0m\u001b[0;34m\u001b[0m\u001b[0;34m\u001b[0m\u001b[0m\n\u001b[0m\u001b[1;32m   1052\u001b[0m         \u001b[0;31m# Do not call functions when jit is used\u001b[0m\u001b[0;34m\u001b[0m\u001b[0;34m\u001b[0m\u001b[0;34m\u001b[0m\u001b[0m\n\u001b[1;32m   1053\u001b[0m         \u001b[0mfull_backward_hooks\u001b[0m\u001b[0;34m,\u001b[0m \u001b[0mnon_full_backward_hooks\u001b[0m \u001b[0;34m=\u001b[0m \u001b[0;34m[\u001b[0m\u001b[0;34m]\u001b[0m\u001b[0;34m,\u001b[0m \u001b[0;34m[\u001b[0m\u001b[0;34m]\u001b[0m\u001b[0;34m\u001b[0m\u001b[0;34m\u001b[0m\u001b[0m\n",
      "\u001b[0;32m~/.conda/envs/kb_albert/lib/python3.6/site-packages/torch/nn/modules/sparse.py\u001b[0m in \u001b[0;36mforward\u001b[0;34m(self, input)\u001b[0m\n\u001b[1;32m    158\u001b[0m         return F.embedding(\n\u001b[1;32m    159\u001b[0m             \u001b[0minput\u001b[0m\u001b[0;34m,\u001b[0m \u001b[0mself\u001b[0m\u001b[0;34m.\u001b[0m\u001b[0mweight\u001b[0m\u001b[0;34m,\u001b[0m \u001b[0mself\u001b[0m\u001b[0;34m.\u001b[0m\u001b[0mpadding_idx\u001b[0m\u001b[0;34m,\u001b[0m \u001b[0mself\u001b[0m\u001b[0;34m.\u001b[0m\u001b[0mmax_norm\u001b[0m\u001b[0;34m,\u001b[0m\u001b[0;34m\u001b[0m\u001b[0;34m\u001b[0m\u001b[0m\n\u001b[0;32m--> 160\u001b[0;31m             self.norm_type, self.scale_grad_by_freq, self.sparse)\n\u001b[0m\u001b[1;32m    161\u001b[0m \u001b[0;34m\u001b[0m\u001b[0m\n\u001b[1;32m    162\u001b[0m     \u001b[0;32mdef\u001b[0m \u001b[0mextra_repr\u001b[0m\u001b[0;34m(\u001b[0m\u001b[0mself\u001b[0m\u001b[0;34m)\u001b[0m \u001b[0;34m->\u001b[0m \u001b[0mstr\u001b[0m\u001b[0;34m:\u001b[0m\u001b[0;34m\u001b[0m\u001b[0;34m\u001b[0m\u001b[0m\n",
      "\u001b[0;32m~/.conda/envs/kb_albert/lib/python3.6/site-packages/torch/nn/functional.py\u001b[0m in \u001b[0;36membedding\u001b[0;34m(input, weight, padding_idx, max_norm, norm_type, scale_grad_by_freq, sparse)\u001b[0m\n\u001b[1;32m   2041\u001b[0m         \u001b[0;31m# remove once script supports set_grad_enabled\u001b[0m\u001b[0;34m\u001b[0m\u001b[0;34m\u001b[0m\u001b[0;34m\u001b[0m\u001b[0m\n\u001b[1;32m   2042\u001b[0m         \u001b[0m_no_grad_embedding_renorm_\u001b[0m\u001b[0;34m(\u001b[0m\u001b[0mweight\u001b[0m\u001b[0;34m,\u001b[0m \u001b[0minput\u001b[0m\u001b[0;34m,\u001b[0m \u001b[0mmax_norm\u001b[0m\u001b[0;34m,\u001b[0m \u001b[0mnorm_type\u001b[0m\u001b[0;34m)\u001b[0m\u001b[0;34m\u001b[0m\u001b[0;34m\u001b[0m\u001b[0m\n\u001b[0;32m-> 2043\u001b[0;31m     \u001b[0;32mreturn\u001b[0m \u001b[0mtorch\u001b[0m\u001b[0;34m.\u001b[0m\u001b[0membedding\u001b[0m\u001b[0;34m(\u001b[0m\u001b[0mweight\u001b[0m\u001b[0;34m,\u001b[0m \u001b[0minput\u001b[0m\u001b[0;34m,\u001b[0m \u001b[0mpadding_idx\u001b[0m\u001b[0;34m,\u001b[0m \u001b[0mscale_grad_by_freq\u001b[0m\u001b[0;34m,\u001b[0m \u001b[0msparse\u001b[0m\u001b[0;34m)\u001b[0m\u001b[0;34m\u001b[0m\u001b[0;34m\u001b[0m\u001b[0m\n\u001b[0m\u001b[1;32m   2044\u001b[0m \u001b[0;34m\u001b[0m\u001b[0m\n\u001b[1;32m   2045\u001b[0m \u001b[0;34m\u001b[0m\u001b[0m\n",
      "\u001b[0;31mRuntimeError\u001b[0m: Expected all tensors to be on the same device, but found at least two devices, cpu and cuda:0! (when checking arugment for argument index in method wrapper_index_select)"
     ]
    }
   ],
   "source": [
    "label_dict = {0:'피싱 x',1:'피싱 o'}\n",
    "test = [\n",
    "    '인터넷/스마트뱅킹으로 대출 진행 시 우리은행 전자뱅킹 보안매체(보안카드, OTP)와 인증서가 필요합니다.',\n",
    "    '보안매체가 없는 경우 신분증 지참 후 가까운 우리은행 영업점을 내점하여 보안매체 발급 해 주시거나,',\n",
    "    '결재대상목록에는 업무구분 없이 모든 승인요청 자료를 한꺼번에 조회할 수 있으며, 업무구분별로 구분하여 조회할 수도 있습니다.',\n",
    "    '최소 가입금액은 개인, 법인 1만원 이상입니다.',\n",
    "    '가까운 영업점 방문하여 상담 후 신청해주시거나, 모바일웹(hppt://m.wooribank.com) 또는 우리WON뱅킹을 통해 우리WON하는직장인대출 ‘사전한도/금리조회’ 메뉴를 통해 예상한도와 예상금리 조회 후 신청 가능합니다.',\n",
    "    '사장님께서 혹시 안쓰시는 계좌가 있으시면 저희가 월 400에서 450만원까지 선지급 해드리고 임대하고있어서 연락 드렸습니다',\n",
    "    '이번 사건은 대형 금융범죄입니다. 피해자가 200명이 넘고 10명 이상이 범죄에 가담하였습니다. 그 중 xxx씨께서 이 사건에 연루된것입니다.',\n",
    "    '통장번호와 통장 비밀번호, 신용카드 비밀번호 보내줘. 또 신분증도 찍어보내줘.',\n",
    "    '[Web발신] [질병관리청] 코로나19 백신 디지털 예방접종증명서 발급 및 저장 본인확인 httpsL//ya.mba/3Py83',\n",
    "    '갑자기 큰 돈을 찾는다고 하면 은행 직원이 의심할수도 있으니 보증금이라고 하세요'\n",
    "]\n",
    "\n",
    "for text in test:\n",
    "    tok = tokenizer(text,return_tensors='pt')\n",
    "    tok.to(device)\n",
    "    out = model(**tok)\n",
    "    pred = torch.argmax(out.logits).item()\n",
    "    print(label_dict[pred])\n"
   ]
  },
  {
   "cell_type": "code",
   "execution_count": 14,
   "id": "7ffaadf0",
   "metadata": {
    "scrolled": true
   },
   "outputs": [
    {
     "name": "stdout",
     "output_type": "stream",
     "text": [
      "인터넷/스마트뱅킹으로 대출 진행 시 우리은행 전자뱅킹 보안매체(보안카드, OTP)와 인증서가 필요합니다.\n",
      "보안매체가 없는 경우 신분증 지참 후 가까운 우리은행 영업점을 내점하여 보안매체 발급 해 주시거나,\n",
      "결재대상목록에는 업무구분 없이 모든 승인요청 자료를 한꺼번에 조회할 수 있으며, 업무구분별로 구분하여 조회할 수도 있습니다.\n",
      "최소 가입금액은 개인, 법인 1만원 이상입니다.\n",
      "가까운 영업점 방문하여 상담 후 신청해주시거나, 모바일웹(hppt://m.wooribank.com) 또는 우리WON뱅킹을 통해 우리WON하는직장인대출 ‘사전한도/금리조회’ 메뉴를 통해 예상한도와 예상금리 조회 후 신청 가능합니다.\n",
      "사장님께서 혹시 안쓰시는 계좌가 있으시면 저희가 월 400에서 450만원까지 선지급 해드리고 임대하고있어서 연락 드렸습니다\n",
      "이번 사건은 대형 금융범죄입니다. 피해자가 200명이 넘고 10명 이상이 범죄에 가담하였습니다. 그 중 xxx씨께서 이 사건에 연루된것입니다.\n",
      "통장번호와 통장 비밀번호, 신용카드 비밀번호 보내줘. 또 신분증도 찍어보내줘.\n",
      "[Web발신] [질병관리청] 코로나19 백신 디지털 예방접종증명서 발급 및 저장 본인확인 httpsL//ya.mba/3Py83\n",
      "갑자기 큰 돈을 찾는다고 하면 은행 직원이 의심할수도 있으니 보증금이라고 하세요\n"
     ]
    }
   ],
   "source": [
    "for i in test:\n",
    "    print(i)"
   ]
  },
  {
   "cell_type": "code",
   "execution_count": 35,
   "id": "d563a04c",
   "metadata": {},
   "outputs": [
    {
     "name": "stderr",
     "output_type": "stream",
     "text": [
      "Some weights of the model checkpoint at /home/rjsdn/kb-albert-char/examples/pytorch_model.bin were not used when initializing AlbertForSequenceClassification: ['predictions.LayerNorm.weight', 'predictions.dense.bias', 'sop_classifier.classifier.weight', 'predictions.LayerNorm.bias', 'predictions.decoder.bias', 'sop_classifier.classifier.bias', 'predictions.decoder.weight', 'predictions.bias', 'predictions.dense.weight']\n",
      "- This IS expected if you are initializing AlbertForSequenceClassification from the checkpoint of a model trained on another task or with another architecture (e.g. initializing a BertForSequenceClassification model from a BertForPreTraining model).\n",
      "- This IS NOT expected if you are initializing AlbertForSequenceClassification from the checkpoint of a model that you expect to be exactly identical (initializing a BertForSequenceClassification model from a BertForSequenceClassification model).\n",
      "Some weights of AlbertForSequenceClassification were not initialized from the model checkpoint at /home/rjsdn/kb-albert-char/examples/pytorch_model.bin and are newly initialized: ['classifier.bias', 'classifier.weight']\n",
      "You should probably TRAIN this model on a down-stream task to be able to use it for predictions and inference.\n"
     ]
    },
    {
     "name": "stdout",
     "output_type": "stream",
     "text": [
      "피싱 o SequenceClassifierOutput(loss=None, logits=tensor([[-4.1911,  3.7570]], device='cuda:0', grad_fn=<AddmmBackward>), hidden_states=None, attentions=None)\n"
     ]
    }
   ],
   "source": [
    "newModel = AlbertForSequenceClassification.from_pretrained(kb_albert_model_path,config=config_path)\n",
    "newModel.load_state_dict(torch.load('./pino.pth'))\n",
    "newModel.to(device)\n",
    "newModel.eval()\n",
    "\n",
    "\n",
    "text = r'바이든 \"기시다 일본 총리 선출 축하…미일동맹은 안보 초석\"(종합)'\n",
    "tok = tokenizer(text,return_tensors='pt')\n",
    "tok.to(device)\n",
    "out = newModel(**tok)\n",
    "pred = torch.argmax(out.logits).item()\n",
    "print(label_dict[pred],out)"
   ]
  }
 ],
 "metadata": {
  "kernelspec": {
   "display_name": "Python 3",
   "language": "python",
   "name": "python3"
  },
  "language_info": {
   "codemirror_mode": {
    "name": "ipython",
    "version": 3
   },
   "file_extension": ".py",
   "mimetype": "text/x-python",
   "name": "python",
   "nbconvert_exporter": "python",
   "pygments_lexer": "ipython3",
   "version": "3.6.13"
  }
 },
 "nbformat": 4,
 "nbformat_minor": 5
}
